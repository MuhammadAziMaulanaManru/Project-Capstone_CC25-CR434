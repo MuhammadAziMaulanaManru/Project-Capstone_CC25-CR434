{
 "cells": [
  {
   "cell_type": "code",
   "execution_count": 1,
   "id": "e5ad995c-3705-40a8-a6b7-733859f84989",
   "metadata": {},
   "outputs": [],
   "source": [
    "# =======================================\n",
    "# STEP 1: Import Library\n",
    "# =======================================\n",
    "import pandas as pd\n",
    "import numpy as np\n",
    "from tensorflow import keras\n",
    "from sklearn.preprocessing import StandardScaler, OneHotEncoder\n",
    "from sklearn.compose import ColumnTransformer\n",
    "import matplotlib.pyplot as plt\n"
   ]
  },
  {
   "cell_type": "code",
   "execution_count": 3,
   "id": "3600fbe5-94f4-486e-bafd-0b9647c3f713",
   "metadata": {},
   "outputs": [],
   "source": [
    "# =======================================\n",
    "# STEP 2: Load Data Preprocessing Pipeline (jika belum punya, definisikan ulang)\n",
    "# =======================================\n",
    "# Contoh dari data training (gunakan yang sama dengan saat training)\n",
    "categorical_cols = ['Company', 'Product', 'TypeName', 'ScreenResolution', 'OpSys', 'Cpu_brand', 'Cpu_model', 'Gpu_brand']\n",
    "numerical_cols = ['Inches', 'Ram', 'Weight', 'SSD', 'HDD', 'Flash', 'Hybrid']\n",
    "\n",
    "preprocessor = ColumnTransformer(transformers=[\n",
    "    ('num', StandardScaler(), numerical_cols),\n",
    "    ('cat', OneHotEncoder(handle_unknown='ignore'), categorical_cols)\n",
    "])"
   ]
  },
  {
   "cell_type": "code",
   "execution_count": 4,
   "id": "ccec6fe6-105f-4beb-a280-2ad8edafef17",
   "metadata": {},
   "outputs": [],
   "source": [
    "# =======================================\n",
    "# STEP 3: Contoh Input dari Pengguna\n",
    "# =======================================\n",
    "input_data = pd.DataFrame([{\n",
    "    'Company': 'lenovo',\n",
    "    'Product': 'ideapad',\n",
    "    'TypeName': 'notebook',\n",
    "    'Inches': 14.0,\n",
    "    'ScreenResolution': 'full hd 1920x1080',\n",
    "    'Ram': 8,\n",
    "    'OpSys': 'windows 10',\n",
    "    'Weight': 1.8,\n",
    "    'Cpu_brand': 'intel',\n",
    "    'Cpu_model': 'core i5',\n",
    "    'Gpu_brand': 'intel',\n",
    "    'SSD': 256,\n",
    "    'HDD': 0,\n",
    "    'Flash': 0,\n",
    "    'Hybrid': 0\n",
    "}])\n",
    "\n",
    "# Pastikan string lowercase agar sesuai encoding saat training\n",
    "for col in categorical_cols:\n",
    "    input_data[col] = input_data[col].str.lower()\n"
   ]
  },
  {
   "cell_type": "code",
   "execution_count": 5,
   "id": "f353b74d-4d50-4bb7-9aa5-d0664bc838bc",
   "metadata": {},
   "outputs": [],
   "source": [
    "# =======================================\n",
    "# STEP 4: Fit Preprocessor (jika belum disimpan, gunakan dari training data)\n",
    "# =======================================\n",
    "# HARUS dilatih ulang dengan X_train OR simpan via joblib\n",
    "# Contoh:\n",
    "# preprocessor.fit(X_train) \n",
    "# Atau:\n",
    "# from joblib import load; preprocessor = load(\"preprocessor.pkl\")\n",
    "\n",
    "# Simulasi fit ulang:\n",
    "# df_clean = <data hasil preprocessing dari training>\n",
    "# X_train = df_clean.drop(columns=[\"Price_in_idr\"])\n",
    "# preprocessor.fit(X_train)\n"
   ]
  },
  {
   "cell_type": "code",
   "execution_count": 6,
   "id": "6cc3bab3-4d23-4e66-bbf1-5a33e6c5ccf9",
   "metadata": {},
   "outputs": [
    {
     "ename": "NotFittedError",
     "evalue": "This ColumnTransformer instance is not fitted yet. Call 'fit' with appropriate arguments before using this estimator.",
     "output_type": "error",
     "traceback": [
      "\u001b[0;31m---------------------------------------------------------------------------\u001b[0m",
      "\u001b[0;31mNotFittedError\u001b[0m                            Traceback (most recent call last)",
      "Cell \u001b[0;32mIn[6], line 4\u001b[0m\n\u001b[1;32m      1\u001b[0m \u001b[38;5;66;03m# =======================================\u001b[39;00m\n\u001b[1;32m      2\u001b[0m \u001b[38;5;66;03m# STEP 5: Transform Input dan Load Model\u001b[39;00m\n\u001b[1;32m      3\u001b[0m \u001b[38;5;66;03m# =======================================\u001b[39;00m\n\u001b[0;32m----> 4\u001b[0m X_input_transformed \u001b[38;5;241m=\u001b[39m preprocessor\u001b[38;5;241m.\u001b[39mtransform(input_data)\n\u001b[1;32m      6\u001b[0m \u001b[38;5;66;03m# Load model terbaik\u001b[39;00m\n\u001b[1;32m      7\u001b[0m model \u001b[38;5;241m=\u001b[39m keras\u001b[38;5;241m.\u001b[39mmodels\u001b[38;5;241m.\u001b[39mload_model(\u001b[38;5;124m\"\u001b[39m\u001b[38;5;124mbest_model.keras\u001b[39m\u001b[38;5;124m\"\u001b[39m)\n",
      "File \u001b[0;32m/Applications/anaconda3/lib/python3.12/site-packages/sklearn/utils/_set_output.py:316\u001b[0m, in \u001b[0;36m_wrap_method_output.<locals>.wrapped\u001b[0;34m(self, X, *args, **kwargs)\u001b[0m\n\u001b[1;32m    314\u001b[0m \u001b[38;5;129m@wraps\u001b[39m(f)\n\u001b[1;32m    315\u001b[0m \u001b[38;5;28;01mdef\u001b[39;00m \u001b[38;5;21mwrapped\u001b[39m(\u001b[38;5;28mself\u001b[39m, X, \u001b[38;5;241m*\u001b[39margs, \u001b[38;5;241m*\u001b[39m\u001b[38;5;241m*\u001b[39mkwargs):\n\u001b[0;32m--> 316\u001b[0m     data_to_wrap \u001b[38;5;241m=\u001b[39m f(\u001b[38;5;28mself\u001b[39m, X, \u001b[38;5;241m*\u001b[39margs, \u001b[38;5;241m*\u001b[39m\u001b[38;5;241m*\u001b[39mkwargs)\n\u001b[1;32m    317\u001b[0m     \u001b[38;5;28;01mif\u001b[39;00m \u001b[38;5;28misinstance\u001b[39m(data_to_wrap, \u001b[38;5;28mtuple\u001b[39m):\n\u001b[1;32m    318\u001b[0m         \u001b[38;5;66;03m# only wrap the first output for cross decomposition\u001b[39;00m\n\u001b[1;32m    319\u001b[0m         return_tuple \u001b[38;5;241m=\u001b[39m (\n\u001b[1;32m    320\u001b[0m             _wrap_data_with_container(method, data_to_wrap[\u001b[38;5;241m0\u001b[39m], X, \u001b[38;5;28mself\u001b[39m),\n\u001b[1;32m    321\u001b[0m             \u001b[38;5;241m*\u001b[39mdata_to_wrap[\u001b[38;5;241m1\u001b[39m:],\n\u001b[1;32m    322\u001b[0m         )\n",
      "File \u001b[0;32m/Applications/anaconda3/lib/python3.12/site-packages/sklearn/compose/_column_transformer.py:1055\u001b[0m, in \u001b[0;36mColumnTransformer.transform\u001b[0;34m(self, X, **params)\u001b[0m\n\u001b[1;32m   1029\u001b[0m \u001b[38;5;250m\u001b[39m\u001b[38;5;124;03m\"\"\"Transform X separately by each transformer, concatenate results.\u001b[39;00m\n\u001b[1;32m   1030\u001b[0m \n\u001b[1;32m   1031\u001b[0m \u001b[38;5;124;03mParameters\u001b[39;00m\n\u001b[0;32m   (...)\u001b[0m\n\u001b[1;32m   1052\u001b[0m \u001b[38;5;124;03m    sparse matrices.\u001b[39;00m\n\u001b[1;32m   1053\u001b[0m \u001b[38;5;124;03m\"\"\"\u001b[39;00m\n\u001b[1;32m   1054\u001b[0m _raise_for_params(params, \u001b[38;5;28mself\u001b[39m, \u001b[38;5;124m\"\u001b[39m\u001b[38;5;124mtransform\u001b[39m\u001b[38;5;124m\"\u001b[39m)\n\u001b[0;32m-> 1055\u001b[0m check_is_fitted(\u001b[38;5;28mself\u001b[39m)\n\u001b[1;32m   1056\u001b[0m X \u001b[38;5;241m=\u001b[39m _check_X(X)\n\u001b[1;32m   1058\u001b[0m \u001b[38;5;66;03m# If ColumnTransformer is fit using a dataframe, and now a dataframe is\u001b[39;00m\n\u001b[1;32m   1059\u001b[0m \u001b[38;5;66;03m# passed to be transformed, we select columns by name instead. This\u001b[39;00m\n\u001b[1;32m   1060\u001b[0m \u001b[38;5;66;03m# enables the user to pass X at transform time with extra columns which\u001b[39;00m\n\u001b[1;32m   1061\u001b[0m \u001b[38;5;66;03m# were not present in fit time, and the order of the columns doesn't\u001b[39;00m\n\u001b[1;32m   1062\u001b[0m \u001b[38;5;66;03m# matter.\u001b[39;00m\n",
      "File \u001b[0;32m/Applications/anaconda3/lib/python3.12/site-packages/sklearn/utils/validation.py:1754\u001b[0m, in \u001b[0;36mcheck_is_fitted\u001b[0;34m(estimator, attributes, msg, all_or_any)\u001b[0m\n\u001b[1;32m   1751\u001b[0m     \u001b[38;5;28;01mreturn\u001b[39;00m\n\u001b[1;32m   1753\u001b[0m \u001b[38;5;28;01mif\u001b[39;00m \u001b[38;5;129;01mnot\u001b[39;00m _is_fitted(estimator, attributes, all_or_any):\n\u001b[0;32m-> 1754\u001b[0m     \u001b[38;5;28;01mraise\u001b[39;00m NotFittedError(msg \u001b[38;5;241m%\u001b[39m {\u001b[38;5;124m\"\u001b[39m\u001b[38;5;124mname\u001b[39m\u001b[38;5;124m\"\u001b[39m: \u001b[38;5;28mtype\u001b[39m(estimator)\u001b[38;5;241m.\u001b[39m\u001b[38;5;18m__name__\u001b[39m})\n",
      "\u001b[0;31mNotFittedError\u001b[0m: This ColumnTransformer instance is not fitted yet. Call 'fit' with appropriate arguments before using this estimator."
     ]
    }
   ],
   "source": [
    "# =======================================\n",
    "# STEP 5: Transform Input dan Load Model\n",
    "# =======================================\n",
    "X_input_transformed = preprocessor.transform(input_data)\n",
    "\n",
    "# Load model terbaik\n",
    "model = keras.models.load_model(\"best_model.keras\")\n",
    "\n",
    "# Prediksi\n",
    "y_pred = model.predict(X_input_transformed)\n"
   ]
  },
  {
   "cell_type": "code",
   "execution_count": 7,
   "id": "64d7aa10-f27f-4481-b74b-9acafcdf5289",
   "metadata": {},
   "outputs": [
    {
     "ename": "SyntaxError",
     "evalue": "unterminated f-string literal (detected at line 5) (2758684032.py, line 5)",
     "output_type": "error",
     "traceback": [
      "\u001b[0;36m  Cell \u001b[0;32mIn[7], line 5\u001b[0;36m\u001b[0m\n\u001b[0;31m    print(f\"💡 Predicted Laptop Price: Rp {predicted_price:,.0f}\u001b[0m\n\u001b[0m          ^\u001b[0m\n\u001b[0;31mSyntaxError\u001b[0m\u001b[0;31m:\u001b[0m unterminated f-string literal (detected at line 5)\n"
     ]
    }
   ],
   "source": [
    "# =======================================\n",
    "# STEP 6: Tampilkan Hasil Prediksi\n",
    "# =======================================\n",
    "predicted_price = y_pred[0][0]\n",
    "print(f\"💡 Predicted Laptop Price: Rp {predicted_price:,.0f}"
   ]
  },
  {
   "cell_type": "code",
   "execution_count": null,
   "id": "78c0ff32-5002-4ef6-9889-47e6b27eff9b",
   "metadata": {},
   "outputs": [],
   "source": []
  }
 ],
 "metadata": {
  "kernelspec": {
   "display_name": "Python 3 (ipykernel)",
   "language": "python",
   "name": "python3"
  },
  "language_info": {
   "codemirror_mode": {
    "name": "ipython",
    "version": 3
   },
   "file_extension": ".py",
   "mimetype": "text/x-python",
   "name": "python",
   "nbconvert_exporter": "python",
   "pygments_lexer": "ipython3",
   "version": "3.12.7"
  }
 },
 "nbformat": 4,
 "nbformat_minor": 5
}
